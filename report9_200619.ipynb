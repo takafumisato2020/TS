{
  "nbformat": 4,
  "nbformat_minor": 0,
  "metadata": {
    "colab": {
      "name": "report9_200619",
      "provenance": [],
      "collapsed_sections": [],
      "include_colab_link": true
    },
    "kernelspec": {
      "name": "ir",
      "display_name": "R"
    }
  },
  "cells": [
    {
      "cell_type": "markdown",
      "metadata": {
        "id": "view-in-github",
        "colab_type": "text"
      },
      "source": [
        "<a href=\"https://colab.research.google.com/github/takafumisato2020/TS/blob/Dataanalysis_10/report9_200619.ipynb\" target=\"_parent\"><img src=\"https://colab.research.google.com/assets/colab-badge.svg\" alt=\"Open In Colab\"/></a>"
      ]
    },
    {
      "cell_type": "code",
      "metadata": {
        "id": "mnclTyesUZUC",
        "colab_type": "code",
        "colab": {}
      },
      "source": [
        "#rstanがインストールされていないならインストールする\n",
        "x<-installed.packages()\n",
        "if(any(x[,1]== 'rstan') == FALSE){\n",
        "    system(\"add-apt-repository -y ppa:marutter/rrutter3.5\")\n",
        "    system(\"add-apt-repository -y ppa:marutter/c2d4u3.5\") \n",
        "    system(\"apt-get update\")\n",
        "    system(\"apt install -y r-cran-rstan\")\n",
        "}"
      ],
      "execution_count": null,
      "outputs": []
    },
    {
      "cell_type": "code",
      "metadata": {
        "id": "bpMOYLSlTGD7",
        "colab_type": "code",
        "colab": {}
      },
      "source": [
        "auto <- read.csv(\"Automobile.csv\")"
      ],
      "execution_count": null,
      "outputs": []
    },
    {
      "cell_type": "code",
      "metadata": {
        "id": "XrKmOq0RTrU5",
        "colab_type": "code",
        "colab": {
          "base_uri": "https://localhost:8080/",
          "height": 1000
        },
        "outputId": "45e0a5b7-2ce5-4938-8a0a-b358c95ceb6a"
      },
      "source": [
        "auto"
      ],
      "execution_count": null,
      "outputs": [
        {
          "output_type": "display_data",
          "data": {
            "text/plain": [
              "    make        fuel.type curb.weight\n",
              "1   alfa-romero gas       2548       \n",
              "2   alfa-romero gas       2548       \n",
              "3   alfa-romero gas       2823       \n",
              "4   audi        gas       2337       \n",
              "5   audi        gas       2824       \n",
              "6   audi        gas       2507       \n",
              "7   audi        gas       2844       \n",
              "8   audi        gas       2954       \n",
              "9   audi        gas       3086       \n",
              "10  audi        gas       3053       \n",
              "11  bmw         gas       2395       \n",
              "12  bmw         gas       2395       \n",
              "13  bmw         gas       2710       \n",
              "14  bmw         gas       2765       \n",
              "15  bmw         gas       3055       \n",
              "16  bmw         gas       3230       \n",
              "17  bmw         gas       3380       \n",
              "18  bmw         gas       3505       \n",
              "19  chevrolet   gas       1488       \n",
              "20  chevrolet   gas       1874       \n",
              "21  chevrolet   gas       1909       \n",
              "22  dodge       gas       1876       \n",
              "23  dodge       gas       1876       \n",
              "24  dodge       gas       2128       \n",
              "25  dodge       gas       1967       \n",
              "26  dodge       gas       1989       \n",
              "27  dodge       gas       1989       \n",
              "28  dodge       gas       2191       \n",
              "29  dodge       gas       2535       \n",
              "30  dodge       gas       2811       \n",
              "⋮   ⋮           ⋮         ⋮          \n",
              "176 toyota      gas       2414       \n",
              "177 toyota      gas       2414       \n",
              "178 toyota      gas       2458       \n",
              "179 toyota      gas       2976       \n",
              "180 toyota      gas       3016       \n",
              "181 toyota      gas       3131       \n",
              "182 toyota      gas       3151       \n",
              "183 volkswagen  diesel    2261       \n",
              "184 volkswagen  gas       2209       \n",
              "185 volkswagen  diesel    2264       \n",
              "186 volkswagen  gas       2212       \n",
              "187 volkswagen  gas       2275       \n",
              "188 volkswagen  diesel    2319       \n",
              "189 volkswagen  gas       2300       \n",
              "190 volkswagen  gas       2254       \n",
              "191 volkswagen  gas       2221       \n",
              "192 volkswagen  gas       2661       \n",
              "193 volkswagen  diesel    2579       \n",
              "194 volkswagen  gas       2563       \n",
              "195 volvo       gas       2912       \n",
              "196 volvo       gas       3034       \n",
              "197 volvo       gas       2935       \n",
              "198 volvo       gas       3042       \n",
              "199 volvo       gas       3045       \n",
              "200 volvo       gas       3157       \n",
              "201 volvo       gas       2952       \n",
              "202 volvo       gas       3049       \n",
              "203 volvo       gas       3012       \n",
              "204 volvo       diesel    3217       \n",
              "205 volvo       gas       3062       "
            ],
            "text/latex": "A data.frame: 205 × 3\n\\begin{tabular}{lll}\n make & fuel.type & curb.weight\\\\\n <fct> & <fct> & <int>\\\\\n\\hline\n\t alfa-romero & gas & 2548\\\\\n\t alfa-romero & gas & 2548\\\\\n\t alfa-romero & gas & 2823\\\\\n\t audi        & gas & 2337\\\\\n\t audi        & gas & 2824\\\\\n\t audi        & gas & 2507\\\\\n\t audi        & gas & 2844\\\\\n\t audi        & gas & 2954\\\\\n\t audi        & gas & 3086\\\\\n\t audi        & gas & 3053\\\\\n\t bmw         & gas & 2395\\\\\n\t bmw         & gas & 2395\\\\\n\t bmw         & gas & 2710\\\\\n\t bmw         & gas & 2765\\\\\n\t bmw         & gas & 3055\\\\\n\t bmw         & gas & 3230\\\\\n\t bmw         & gas & 3380\\\\\n\t bmw         & gas & 3505\\\\\n\t chevrolet   & gas & 1488\\\\\n\t chevrolet   & gas & 1874\\\\\n\t chevrolet   & gas & 1909\\\\\n\t dodge       & gas & 1876\\\\\n\t dodge       & gas & 1876\\\\\n\t dodge       & gas & 2128\\\\\n\t dodge       & gas & 1967\\\\\n\t dodge       & gas & 1989\\\\\n\t dodge       & gas & 1989\\\\\n\t dodge       & gas & 2191\\\\\n\t dodge       & gas & 2535\\\\\n\t dodge       & gas & 2811\\\\\n\t ⋮ & ⋮ & ⋮\\\\\n\t toyota     & gas    & 2414\\\\\n\t toyota     & gas    & 2414\\\\\n\t toyota     & gas    & 2458\\\\\n\t toyota     & gas    & 2976\\\\\n\t toyota     & gas    & 3016\\\\\n\t toyota     & gas    & 3131\\\\\n\t toyota     & gas    & 3151\\\\\n\t volkswagen & diesel & 2261\\\\\n\t volkswagen & gas    & 2209\\\\\n\t volkswagen & diesel & 2264\\\\\n\t volkswagen & gas    & 2212\\\\\n\t volkswagen & gas    & 2275\\\\\n\t volkswagen & diesel & 2319\\\\\n\t volkswagen & gas    & 2300\\\\\n\t volkswagen & gas    & 2254\\\\\n\t volkswagen & gas    & 2221\\\\\n\t volkswagen & gas    & 2661\\\\\n\t volkswagen & diesel & 2579\\\\\n\t volkswagen & gas    & 2563\\\\\n\t volvo      & gas    & 2912\\\\\n\t volvo      & gas    & 3034\\\\\n\t volvo      & gas    & 2935\\\\\n\t volvo      & gas    & 3042\\\\\n\t volvo      & gas    & 3045\\\\\n\t volvo      & gas    & 3157\\\\\n\t volvo      & gas    & 2952\\\\\n\t volvo      & gas    & 3049\\\\\n\t volvo      & gas    & 3012\\\\\n\t volvo      & diesel & 3217\\\\\n\t volvo      & gas    & 3062\\\\\n\\end{tabular}\n",
            "text/markdown": "\nA data.frame: 205 × 3\n\n| make &lt;fct&gt; | fuel.type &lt;fct&gt; | curb.weight &lt;int&gt; |\n|---|---|---|\n| alfa-romero | gas | 2548 |\n| alfa-romero | gas | 2548 |\n| alfa-romero | gas | 2823 |\n| audi        | gas | 2337 |\n| audi        | gas | 2824 |\n| audi        | gas | 2507 |\n| audi        | gas | 2844 |\n| audi        | gas | 2954 |\n| audi        | gas | 3086 |\n| audi        | gas | 3053 |\n| bmw         | gas | 2395 |\n| bmw         | gas | 2395 |\n| bmw         | gas | 2710 |\n| bmw         | gas | 2765 |\n| bmw         | gas | 3055 |\n| bmw         | gas | 3230 |\n| bmw         | gas | 3380 |\n| bmw         | gas | 3505 |\n| chevrolet   | gas | 1488 |\n| chevrolet   | gas | 1874 |\n| chevrolet   | gas | 1909 |\n| dodge       | gas | 1876 |\n| dodge       | gas | 1876 |\n| dodge       | gas | 2128 |\n| dodge       | gas | 1967 |\n| dodge       | gas | 1989 |\n| dodge       | gas | 1989 |\n| dodge       | gas | 2191 |\n| dodge       | gas | 2535 |\n| dodge       | gas | 2811 |\n| ⋮ | ⋮ | ⋮ |\n| toyota     | gas    | 2414 |\n| toyota     | gas    | 2414 |\n| toyota     | gas    | 2458 |\n| toyota     | gas    | 2976 |\n| toyota     | gas    | 3016 |\n| toyota     | gas    | 3131 |\n| toyota     | gas    | 3151 |\n| volkswagen | diesel | 2261 |\n| volkswagen | gas    | 2209 |\n| volkswagen | diesel | 2264 |\n| volkswagen | gas    | 2212 |\n| volkswagen | gas    | 2275 |\n| volkswagen | diesel | 2319 |\n| volkswagen | gas    | 2300 |\n| volkswagen | gas    | 2254 |\n| volkswagen | gas    | 2221 |\n| volkswagen | gas    | 2661 |\n| volkswagen | diesel | 2579 |\n| volkswagen | gas    | 2563 |\n| volvo      | gas    | 2912 |\n| volvo      | gas    | 3034 |\n| volvo      | gas    | 2935 |\n| volvo      | gas    | 3042 |\n| volvo      | gas    | 3045 |\n| volvo      | gas    | 3157 |\n| volvo      | gas    | 2952 |\n| volvo      | gas    | 3049 |\n| volvo      | gas    | 3012 |\n| volvo      | diesel | 3217 |\n| volvo      | gas    | 3062 |\n\n",
            "text/html": [
              "<table>\n",
              "<caption>A data.frame: 205 × 3</caption>\n",
              "<thead>\n",
              "\t<tr><th scope=col>make</th><th scope=col>fuel.type</th><th scope=col>curb.weight</th></tr>\n",
              "\t<tr><th scope=col>&lt;fct&gt;</th><th scope=col>&lt;fct&gt;</th><th scope=col>&lt;int&gt;</th></tr>\n",
              "</thead>\n",
              "<tbody>\n",
              "\t<tr><td>alfa-romero</td><td>gas</td><td>2548</td></tr>\n",
              "\t<tr><td>alfa-romero</td><td>gas</td><td>2548</td></tr>\n",
              "\t<tr><td>alfa-romero</td><td>gas</td><td>2823</td></tr>\n",
              "\t<tr><td>audi       </td><td>gas</td><td>2337</td></tr>\n",
              "\t<tr><td>audi       </td><td>gas</td><td>2824</td></tr>\n",
              "\t<tr><td>audi       </td><td>gas</td><td>2507</td></tr>\n",
              "\t<tr><td>audi       </td><td>gas</td><td>2844</td></tr>\n",
              "\t<tr><td>audi       </td><td>gas</td><td>2954</td></tr>\n",
              "\t<tr><td>audi       </td><td>gas</td><td>3086</td></tr>\n",
              "\t<tr><td>audi       </td><td>gas</td><td>3053</td></tr>\n",
              "\t<tr><td>bmw        </td><td>gas</td><td>2395</td></tr>\n",
              "\t<tr><td>bmw        </td><td>gas</td><td>2395</td></tr>\n",
              "\t<tr><td>bmw        </td><td>gas</td><td>2710</td></tr>\n",
              "\t<tr><td>bmw        </td><td>gas</td><td>2765</td></tr>\n",
              "\t<tr><td>bmw        </td><td>gas</td><td>3055</td></tr>\n",
              "\t<tr><td>bmw        </td><td>gas</td><td>3230</td></tr>\n",
              "\t<tr><td>bmw        </td><td>gas</td><td>3380</td></tr>\n",
              "\t<tr><td>bmw        </td><td>gas</td><td>3505</td></tr>\n",
              "\t<tr><td>chevrolet  </td><td>gas</td><td>1488</td></tr>\n",
              "\t<tr><td>chevrolet  </td><td>gas</td><td>1874</td></tr>\n",
              "\t<tr><td>chevrolet  </td><td>gas</td><td>1909</td></tr>\n",
              "\t<tr><td>dodge      </td><td>gas</td><td>1876</td></tr>\n",
              "\t<tr><td>dodge      </td><td>gas</td><td>1876</td></tr>\n",
              "\t<tr><td>dodge      </td><td>gas</td><td>2128</td></tr>\n",
              "\t<tr><td>dodge      </td><td>gas</td><td>1967</td></tr>\n",
              "\t<tr><td>dodge      </td><td>gas</td><td>1989</td></tr>\n",
              "\t<tr><td>dodge      </td><td>gas</td><td>1989</td></tr>\n",
              "\t<tr><td>dodge      </td><td>gas</td><td>2191</td></tr>\n",
              "\t<tr><td>dodge      </td><td>gas</td><td>2535</td></tr>\n",
              "\t<tr><td>dodge      </td><td>gas</td><td>2811</td></tr>\n",
              "\t<tr><td>⋮</td><td>⋮</td><td>⋮</td></tr>\n",
              "\t<tr><td>toyota    </td><td>gas   </td><td>2414</td></tr>\n",
              "\t<tr><td>toyota    </td><td>gas   </td><td>2414</td></tr>\n",
              "\t<tr><td>toyota    </td><td>gas   </td><td>2458</td></tr>\n",
              "\t<tr><td>toyota    </td><td>gas   </td><td>2976</td></tr>\n",
              "\t<tr><td>toyota    </td><td>gas   </td><td>3016</td></tr>\n",
              "\t<tr><td>toyota    </td><td>gas   </td><td>3131</td></tr>\n",
              "\t<tr><td>toyota    </td><td>gas   </td><td>3151</td></tr>\n",
              "\t<tr><td>volkswagen</td><td>diesel</td><td>2261</td></tr>\n",
              "\t<tr><td>volkswagen</td><td>gas   </td><td>2209</td></tr>\n",
              "\t<tr><td>volkswagen</td><td>diesel</td><td>2264</td></tr>\n",
              "\t<tr><td>volkswagen</td><td>gas   </td><td>2212</td></tr>\n",
              "\t<tr><td>volkswagen</td><td>gas   </td><td>2275</td></tr>\n",
              "\t<tr><td>volkswagen</td><td>diesel</td><td>2319</td></tr>\n",
              "\t<tr><td>volkswagen</td><td>gas   </td><td>2300</td></tr>\n",
              "\t<tr><td>volkswagen</td><td>gas   </td><td>2254</td></tr>\n",
              "\t<tr><td>volkswagen</td><td>gas   </td><td>2221</td></tr>\n",
              "\t<tr><td>volkswagen</td><td>gas   </td><td>2661</td></tr>\n",
              "\t<tr><td>volkswagen</td><td>diesel</td><td>2579</td></tr>\n",
              "\t<tr><td>volkswagen</td><td>gas   </td><td>2563</td></tr>\n",
              "\t<tr><td>volvo     </td><td>gas   </td><td>2912</td></tr>\n",
              "\t<tr><td>volvo     </td><td>gas   </td><td>3034</td></tr>\n",
              "\t<tr><td>volvo     </td><td>gas   </td><td>2935</td></tr>\n",
              "\t<tr><td>volvo     </td><td>gas   </td><td>3042</td></tr>\n",
              "\t<tr><td>volvo     </td><td>gas   </td><td>3045</td></tr>\n",
              "\t<tr><td>volvo     </td><td>gas   </td><td>3157</td></tr>\n",
              "\t<tr><td>volvo     </td><td>gas   </td><td>2952</td></tr>\n",
              "\t<tr><td>volvo     </td><td>gas   </td><td>3049</td></tr>\n",
              "\t<tr><td>volvo     </td><td>gas   </td><td>3012</td></tr>\n",
              "\t<tr><td>volvo     </td><td>diesel</td><td>3217</td></tr>\n",
              "\t<tr><td>volvo     </td><td>gas   </td><td>3062</td></tr>\n",
              "</tbody>\n",
              "</table>\n"
            ]
          },
          "metadata": {
            "tags": []
          }
        }
      ]
    },
    {
      "cell_type": "code",
      "metadata": {
        "id": "cppRViy4Tw6a",
        "colab_type": "code",
        "colab": {}
      },
      "source": [
        "weight.gas <- auto[auto$fuel.type==\"gas\",]$curb.weight"
      ],
      "execution_count": null,
      "outputs": []
    },
    {
      "cell_type": "code",
      "metadata": {
        "id": "Mc1TO-aPT9xa",
        "colab_type": "code",
        "colab": {}
      },
      "source": [
        "weight.diesel <- auto[auto$fuel.type==\"diesel\",]$curb.weight"
      ],
      "execution_count": null,
      "outputs": []
    },
    {
      "cell_type": "code",
      "metadata": {
        "id": "XjYorIVdUHab",
        "colab_type": "code",
        "colab": {
          "base_uri": "https://localhost:8080/",
          "height": 437
        },
        "outputId": "62baf273-091f-44fa-bd95-d80117106fd4"
      },
      "source": [
        "boxplot(auto$curb.weight ~ auto$fuel.type)"
      ],
      "execution_count": null,
      "outputs": [
        {
          "output_type": "display_data",
          "data": {
            "image/png": "[encoded data removed]",
            "text/plain": [
              "plot without title"
            ]
          },
          "metadata": {
            "tags": [],
            "image/png": {
              "width": 420,
              "height": 420
            },
            "text/plain": {
              "width": 420,
              "height": 420
            }
          }
        }
      ]
    },
    {
      "cell_type": "code",
      "metadata": {
        "id": "5Q6XUAOkUeNi",
        "colab_type": "code",
        "colab": {
          "base_uri": "https://localhost:8080/",
          "height": 204
        },
        "outputId": "59a82733-9e6e-4a17-b4fa-e145573f0ae7"
      },
      "source": [
        "library(rstan)\n",
        "#表3.1のデータ、クラスA、クラスBの順に入力\n",
        "#mathA <- c(49,66,69,55,54,72,51,76,40,62,66,51,59,68,66,57,53,66,58,57)\n",
        "#mathB <- c(41,55,21,49,53,50,52,67,54,69,57,48,31,52,56,50,46,38,62,59)"
      ],
      "execution_count": null,
      "outputs": [
        {
          "output_type": "stream",
          "text": [
            "Loading required package: StanHeaders\n",
            "\n",
            "Loading required package: ggplot2\n",
            "\n",
            "rstan (Version 2.19.3, GitRev: 2e1f913d3ca3)\n",
            "\n",
            "For execution on a local, multicore CPU with excess RAM we recommend calling\n",
            "options(mc.cores = parallel::detectCores()).\n",
            "To avoid recompilation of unchanged Stan programs, we recommend calling\n",
            "rstan_options(auto_write = TRUE)\n",
            "\n"
          ],
          "name": "stderr"
        }
      ]
    },
    {
      "cell_type": "code",
      "metadata": {
        "id": "9qNLrn2Y5XVe",
        "colab_type": "code",
        "colab": {}
      },
      "source": [
        "# ここでstanのコードをstancodeという変数に入れます\n",
        "# 以下は 1group.stan の例\n",
        "stancode <- '\n",
        "data {\n",
        "  int n1; // 第1群のデータ数\n",
        "  int n2; // 第2群のデータ数\n",
        "  real x1[n1]; // 第1群のデータ\n",
        "  real x2[n2]; // 第2群のデータ\n",
        "}\n",
        "\n",
        "parameters {\n",
        "  real mu1; // 第1群の平均μ1\n",
        "  real mu2; // 第2群の平均μ2\n",
        "  real<lower=0> sigma; // 第1群、第2群の標準偏差σ\n",
        "}\n",
        "\n",
        "model {\n",
        "  mu1 ~ uniform(0,10000);\n",
        "  mu2 ~ uniform(0,10000);\n",
        "  sigma ~ uniform(0,5000);\n",
        "\n",
        "  x1 ~ normal(mu1,sigma);\n",
        "  x2 ~ normal(mu2,sigma);\n",
        "}\n",
        "\n",
        "generated quantities {\n",
        "  real mu1_minus_mu2;\n",
        "  real u_mu1_gt_mu2;\n",
        "  real u_mu1_minus_mu2_gt_5;\n",
        "  real delta;\n",
        "  real u_delta_gt_03;\n",
        "  real U3;\n",
        "  real u_U3_gt_06;\n",
        "  real pi_d;\n",
        "  real u_pi_d_gt_08;\n",
        "\n",
        "  mu1_minus_mu2 = mu1 - mu2; // μ1-μ2 式(3.11)\n",
        "  u_mu1_gt_mu2 = mu1 - mu2 > 0; // u_{μ1>μ2} 式(3.12)\n",
        "  u_mu1_minus_mu2_gt_5 = mu1 - mu2 > 5; // u_{μ1-μ2>c} 式(3.13)\n",
        "  delta = (mu1 - mu2) / sigma; // δ 式(3.15)\n",
        "  u_delta_gt_03 = delta > 0.1; // u_{δ>c} 式(3.16)\n",
        "  U3 = normal_cdf(mu1, mu2, sigma); // U3 式(3.17)\n",
        "  u_U3_gt_06 = U3 > 0.6; // u_{U3>c} 式(3.21)\n",
        "  pi_d = normal_cdf(delta / sqrt(2), 0, 1); // πd 式(3.24)\n",
        "  u_pi_d_gt_08 = pi_d > 0.8; // u_{πd>c} 式(3.26)\n",
        "}\n",
        "'"
      ],
      "execution_count": null,
      "outputs": []
    },
    {
      "cell_type": "code",
      "metadata": {
        "id": "Qc4jRP8MYRbN",
        "colab_type": "code",
        "colab": {
          "base_uri": "https://localhost:8080/",
          "height": 1000
        },
        "outputId": "5fb63d0b-0406-414a-d174-8bde8bb6fb2c"
      },
      "source": [
        "fit <- stan(model_code = stancode,\n",
        "            data=list(n1=length(weight.gas),\n",
        "                      n2=length(weight.diesel),\n",
        "                      x1=weight.gas,\n",
        "                      x2=weight.diesel),\n",
        "            iter=21000,warmup=1000,chains=5)"
      ],
      "execution_count": null,
      "outputs": [
        {
          "output_type": "stream",
          "text": [
            "\n",
            "SAMPLING FOR MODEL '757a8ae6d98325dc0e9ac5a2ad0e3e4b' NOW (CHAIN 1).\n",
            "Chain 1: Rejecting initial value:\n",
            "Chain 1:   Log probability evaluates to log(0), i.e. negative infinity.\n",
            "Chain 1:   Stan can't start sampling from this initial value.\n",
            "Chain 1: \n",
            "Chain 1: Gradient evaluation took 9e-06 seconds\n",
            "Chain 1: 1000 transitions using 10 leapfrog steps per transition would take 0.09 seconds.\n",
            "Chain 1: Adjust your expectations accordingly!\n",
            "Chain 1: \n",
            "Chain 1: \n",
            "Chain 1: Iteration:     1 / 21000 [  0%]  (Warmup)\n",
            "Chain 1: Iteration:  1001 / 21000 [  4%]  (Sampling)\n",
            "Chain 1: Iteration:  3100 / 21000 [ 14%]  (Sampling)\n",
            "Chain 1: Iteration:  5200 / 21000 [ 24%]  (Sampling)\n",
            "Chain 1: Iteration:  7300 / 21000 [ 34%]  (Sampling)\n",
            "Chain 1: Iteration:  9400 / 21000 [ 44%]  (Sampling)\n",
            "Chain 1: Iteration: 11500 / 21000 [ 54%]  (Sampling)\n",
            "Chain 1: Iteration: 13600 / 21000 [ 64%]  (Sampling)\n",
            "Chain 1: Iteration: 15700 / 21000 [ 74%]  (Sampling)\n",
            "Chain 1: Iteration: 17800 / 21000 [ 84%]  (Sampling)\n",
            "Chain 1: Iteration: 19900 / 21000 [ 94%]  (Sampling)\n",
            "Chain 1: Iteration: 21000 / 21000 [100%]  (Sampling)\n",
            "Chain 1: \n",
            "Chain 1:  Elapsed Time: 0.106934 seconds (Warm-up)\n",
            "Chain 1:                0.276713 seconds (Sampling)\n",
            "Chain 1:                0.383647 seconds (Total)\n",
            "Chain 1: \n",
            "\n",
            "SAMPLING FOR MODEL '757a8ae6d98325dc0e9ac5a2ad0e3e4b' NOW (CHAIN 2).\n",
            "Chain 2: \n",
            "Chain 2: Gradient evaluation took 6e-06 seconds\n",
            "Chain 2: 1000 transitions using 10 leapfrog steps per transition would take 0.06 seconds.\n",
            "Chain 2: Adjust your expectations accordingly!\n",
            "Chain 2: \n",
            "Chain 2: \n",
            "Chain 2: Iteration:     1 / 21000 [  0%]  (Warmup)\n",
            "Chain 2: Iteration:  1001 / 21000 [  4%]  (Sampling)\n",
            "Chain 2: Iteration:  3100 / 21000 [ 14%]  (Sampling)\n",
            "Chain 2: Iteration:  5200 / 21000 [ 24%]  (Sampling)\n",
            "Chain 2: Iteration:  7300 / 21000 [ 34%]  (Sampling)\n",
            "Chain 2: Iteration:  9400 / 21000 [ 44%]  (Sampling)\n",
            "Chain 2: Iteration: 11500 / 21000 [ 54%]  (Sampling)\n",
            "Chain 2: Iteration: 13600 / 21000 [ 64%]  (Sampling)\n",
            "Chain 2: Iteration: 15700 / 21000 [ 74%]  (Sampling)\n",
            "Chain 2: Iteration: 17800 / 21000 [ 84%]  (Sampling)\n",
            "Chain 2: Iteration: 19900 / 21000 [ 94%]  (Sampling)\n",
            "Chain 2: Iteration: 21000 / 21000 [100%]  (Sampling)\n",
            "Chain 2: \n",
            "Chain 2:  Elapsed Time: 0.093947 seconds (Warm-up)\n",
            "Chain 2:                0.342707 seconds (Sampling)\n",
            "Chain 2:                0.436654 seconds (Total)\n",
            "Chain 2: \n",
            "\n",
            "SAMPLING FOR MODEL '757a8ae6d98325dc0e9ac5a2ad0e3e4b' NOW (CHAIN 3).\n",
            "Chain 3: Rejecting initial value:\n",
            "Chain 3:   Log probability evaluates to log(0), i.e. negative infinity.\n",
            "Chain 3:   Stan can't start sampling from this initial value.\n",
            "Chain 3: \n",
            "Chain 3: Gradient evaluation took 1.2e-05 seconds\n",
            "Chain 3: 1000 transitions using 10 leapfrog steps per transition would take 0.12 seconds.\n",
            "Chain 3: Adjust your expectations accordingly!\n",
            "Chain 3: \n",
            "Chain 3: \n",
            "Chain 3: Iteration:     1 / 21000 [  0%]  (Warmup)\n",
            "Chain 3: Iteration:  1001 / 21000 [  4%]  (Sampling)\n",
            "Chain 3: Iteration:  3100 / 21000 [ 14%]  (Sampling)\n",
            "Chain 3: Iteration:  5200 / 21000 [ 24%]  (Sampling)\n",
            "Chain 3: Iteration:  7300 / 21000 [ 34%]  (Sampling)\n",
            "Chain 3: Iteration:  9400 / 21000 [ 44%]  (Sampling)\n",
            "Chain 3: Iteration: 11500 / 21000 [ 54%]  (Sampling)\n",
            "Chain 3: Iteration: 13600 / 21000 [ 64%]  (Sampling)\n",
            "Chain 3: Iteration: 15700 / 21000 [ 74%]  (Sampling)\n",
            "Chain 3: Iteration: 17800 / 21000 [ 84%]  (Sampling)\n",
            "Chain 3: Iteration: 19900 / 21000 [ 94%]  (Sampling)\n",
            "Chain 3: Iteration: 21000 / 21000 [100%]  (Sampling)\n",
            "Chain 3: \n",
            "Chain 3:  Elapsed Time: 0.064443 seconds (Warm-up)\n",
            "Chain 3:                0.289554 seconds (Sampling)\n",
            "Chain 3:                0.353997 seconds (Total)\n",
            "Chain 3: \n",
            "\n",
            "SAMPLING FOR MODEL '757a8ae6d98325dc0e9ac5a2ad0e3e4b' NOW (CHAIN 4).\n",
            "Chain 4: Rejecting initial value:\n",
            "Chain 4:   Log probability evaluates to log(0), i.e. negative infinity.\n",
            "Chain 4:   Stan can't start sampling from this initial value.\n",
            "Chain 4: Rejecting initial value:\n",
            "Chain 4:   Log probability evaluates to log(0), i.e. negative infinity.\n",
            "Chain 4:   Stan can't start sampling from this initial value.\n",
            "Chain 4: Rejecting initial value:\n",
            "Chain 4:   Log probability evaluates to log(0), i.e. negative infinity.\n",
            "Chain 4:   Stan can't start sampling from this initial value.\n",
            "Chain 4: Rejecting initial value:\n",
            "Chain 4:   Log probability evaluates to log(0), i.e. negative infinity.\n",
            "Chain 4:   Stan can't start sampling from this initial value.\n",
            "Chain 4: Rejecting initial value:\n",
            "Chain 4:   Log probability evaluates to log(0), i.e. negative infinity.\n",
            "Chain 4:   Stan can't start sampling from this initial value.\n",
            "Chain 4: Rejecting initial value:\n",
            "Chain 4:   Log probability evaluates to log(0), i.e. negative infinity.\n",
            "Chain 4:   Stan can't start sampling from this initial value.\n",
            "Chain 4: Rejecting initial value:\n",
            "Chain 4:   Log probability evaluates to log(0), i.e. negative infinity.\n",
            "Chain 4:   Stan can't start sampling from this initial value.\n",
            "Chain 4: Rejecting initial value:\n",
            "Chain 4:   Log probability evaluates to log(0), i.e. negative infinity.\n",
            "Chain 4:   Stan can't start sampling from this initial value.\n",
            "Chain 4: Rejecting initial value:\n",
            "Chain 4:   Log probability evaluates to log(0), i.e. negative infinity.\n",
            "Chain 4:   Stan can't start sampling from this initial value.\n",
            "Chain 4: Rejecting initial value:\n",
            "Chain 4:   Log probability evaluates to log(0), i.e. negative infinity.\n",
            "Chain 4:   Stan can't start sampling from this initial value.\n",
            "Chain 4: Rejecting initial value:\n",
            "Chain 4:   Log probability evaluates to log(0), i.e. negative infinity.\n",
            "Chain 4:   Stan can't start sampling from this initial value.\n",
            "Chain 4: Rejecting initial value:\n",
            "Chain 4:   Log probability evaluates to log(0), i.e. negative infinity.\n",
            "Chain 4:   Stan can't start sampling from this initial value.\n",
            "Chain 4: Rejecting initial value:\n",
            "Chain 4:   Log probability evaluates to log(0), i.e. negative infinity.\n",
            "Chain 4:   Stan can't start sampling from this initial value.\n",
            "Chain 4: Rejecting initial value:\n",
            "Chain 4:   Log probability evaluates to log(0), i.e. negative infinity.\n",
            "Chain 4:   Stan can't start sampling from this initial value.\n",
            "Chain 4: Rejecting initial value:\n",
            "Chain 4:   Log probability evaluates to log(0), i.e. negative infinity.\n",
            "Chain 4:   Stan can't start sampling from this initial value.\n",
            "Chain 4: Rejecting initial value:\n",
            "Chain 4:   Log probability evaluates to log(0), i.e. negative infinity.\n",
            "Chain 4:   Stan can't start sampling from this initial value.\n",
            "Chain 4: Rejecting initial value:\n",
            "Chain 4:   Log probability evaluates to log(0), i.e. negative infinity.\n",
            "Chain 4:   Stan can't start sampling from this initial value.\n",
            "Chain 4: \n",
            "Chain 4: Gradient evaluation took 6e-06 seconds\n",
            "Chain 4: 1000 transitions using 10 leapfrog steps per transition would take 0.06 seconds.\n",
            "Chain 4: Adjust your expectations accordingly!\n",
            "Chain 4: \n",
            "Chain 4: \n",
            "Chain 4: Iteration:     1 / 21000 [  0%]  (Warmup)\n",
            "Chain 4: Iteration:  1001 / 21000 [  4%]  (Sampling)\n",
            "Chain 4: Iteration:  3100 / 21000 [ 14%]  (Sampling)\n",
            "Chain 4: Iteration:  5200 / 21000 [ 24%]  (Sampling)\n",
            "Chain 4: Iteration:  7300 / 21000 [ 34%]  (Sampling)\n",
            "Chain 4: Iteration:  9400 / 21000 [ 44%]  (Sampling)\n",
            "Chain 4: Iteration: 11500 / 21000 [ 54%]  (Sampling)\n",
            "Chain 4: Iteration: 13600 / 21000 [ 64%]  (Sampling)\n",
            "Chain 4: Iteration: 15700 / 21000 [ 74%]  (Sampling)\n",
            "Chain 4: Iteration: 17800 / 21000 [ 84%]  (Sampling)\n",
            "Chain 4: Iteration: 19900 / 21000 [ 94%]  (Sampling)\n",
            "Chain 4: Iteration: 21000 / 21000 [100%]  (Sampling)\n",
            "Chain 4: \n",
            "Chain 4:  Elapsed Time: 0.123462 seconds (Warm-up)\n",
            "Chain 4:                0.341742 seconds (Sampling)\n",
            "Chain 4:                0.465204 seconds (Total)\n",
            "Chain 4: \n",
            "\n",
            "SAMPLING FOR MODEL '757a8ae6d98325dc0e9ac5a2ad0e3e4b' NOW (CHAIN 5).\n",
            "Chain 5: Rejecting initial value:\n",
            "Chain 5:   Log probability evaluates to log(0), i.e. negative infinity.\n",
            "Chain 5:   Stan can't start sampling from this initial value.\n",
            "Chain 5: Rejecting initial value:\n",
            "Chain 5:   Log probability evaluates to log(0), i.e. negative infinity.\n",
            "Chain 5:   Stan can't start sampling from this initial value.\n",
            "Chain 5: Rejecting initial value:\n",
            "Chain 5:   Log probability evaluates to log(0), i.e. negative infinity.\n",
            "Chain 5:   Stan can't start sampling from this initial value.\n",
            "Chain 5: \n",
            "Chain 5: Gradient evaluation took 7e-06 seconds\n",
            "Chain 5: 1000 transitions using 10 leapfrog steps per transition would take 0.07 seconds.\n",
            "Chain 5: Adjust your expectations accordingly!\n",
            "Chain 5: \n",
            "Chain 5: \n",
            "Chain 5: Iteration:     1 / 21000 [  0%]  (Warmup)\n",
            "Chain 5: Iteration:  1001 / 21000 [  4%]  (Sampling)\n",
            "Chain 5: Iteration:  3100 / 21000 [ 14%]  (Sampling)\n",
            "Chain 5: Iteration:  5200 / 21000 [ 24%]  (Sampling)\n",
            "Chain 5: Iteration:  7300 / 21000 [ 34%]  (Sampling)\n",
            "Chain 5: Iteration:  9400 / 21000 [ 44%]  (Sampling)\n",
            "Chain 5: Iteration: 11500 / 21000 [ 54%]  (Sampling)\n",
            "Chain 5: Iteration: 13600 / 21000 [ 64%]  (Sampling)\n",
            "Chain 5: Iteration: 15700 / 21000 [ 74%]  (Sampling)\n",
            "Chain 5: Iteration: 17800 / 21000 [ 84%]  (Sampling)\n",
            "Chain 5: Iteration: 19900 / 21000 [ 94%]  (Sampling)\n",
            "Chain 5: Iteration: 21000 / 21000 [100%]  (Sampling)\n",
            "Chain 5: \n",
            "Chain 5:  Elapsed Time: 0.137455 seconds (Warm-up)\n",
            "Chain 5:                0.358999 seconds (Sampling)\n",
            "Chain 5:                0.496454 seconds (Total)\n",
            "Chain 5: \n"
          ],
          "name": "stdout"
        },
        {
          "output_type": "stream",
          "text": [
            "Warning message:\n",
            "“The largest R-hat is NA, indicating chains have not mixed.\n",
            "Running the chains for more iterations may help. See\n",
            "http://mc-stan.org/misc/warnings.html#r-hat”\n",
            "Warning message:\n",
            "“Bulk Effective Samples Size (ESS) is too low, indicating posterior means and medians may be unreliable.\n",
            "Running the chains for more iterations may help. See\n",
            "http://mc-stan.org/misc/warnings.html#bulk-ess”\n",
            "Warning message:\n",
            "“Tail Effective Samples Size (ESS) is too low, indicating posterior variances and tail quantiles may be unreliable.\n",
            "Running the chains for more iterations may help. See\n",
            "http://mc-stan.org/misc/warnings.html#tail-ess”\n"
          ],
          "name": "stderr"
        }
      ]
    },
    {
      "cell_type": "code",
      "metadata": {
        "id": "ICWnUOzD68zV",
        "colab_type": "code",
        "colab": {
          "base_uri": "https://localhost:8080/",
          "height": 646
        },
        "outputId": "963b7d48-382b-47d5-cf50-34fe980bdb48"
      },
      "source": [
        "# パラメータの事後分布（推測結果）\n",
        "print(fit,probs=c(0.025,0.05,0.25, 0.5,0.75, 0.95,0.975), digits = 3)"
      ],
      "execution_count": null,
      "outputs": [
        {
          "output_type": "stream",
          "text": [
            "Inference for Stan model: 757a8ae6d98325dc0e9ac5a2ad0e3e4b.\n",
            "5 chains, each with iter=21000; warmup=1000; thin=1; \n",
            "post-warmup draws per chain=20000, total post-warmup draws=1e+05.\n",
            "\n",
            "                          mean se_mean      sd      2.5%        5%       25%\n",
            "mu1                   2518.258   0.115  37.475  2444.765  2456.634  2493.067\n",
            "mu2                   2898.923   0.358 115.041  2672.874  2708.842  2821.643\n",
            "sigma                  512.618   0.082  25.510   465.678   472.565   494.883\n",
            "mu1_minus_mu2         -380.665   0.377 121.089  -618.013  -579.868  -462.003\n",
            "u_mu1_gt_mu2             0.001   0.000   0.032     0.000     0.000     0.000\n",
            "u_mu1_minus_mu2_gt_5     0.001   0.000   0.029     0.000     0.000     0.000\n",
            "delta                   -0.744   0.001   0.239    -1.212    -1.137    -0.905\n",
            "u_delta_gt_03            0.000     NaN   0.012     0.000     0.000     0.000\n",
            "U3                       0.235   0.000   0.072     0.113     0.128     0.183\n",
            "u_U3_gt_06               0.000     NaN   0.003     0.000     0.000     0.000\n",
            "pi_d                     0.302   0.000   0.058     0.196     0.211     0.261\n",
            "u_pi_d_gt_08             0.000     NaN   0.000     0.000     0.000     0.000\n",
            "lp__                 -1374.616   0.005   1.222 -1377.783 -1377.019 -1375.171\n",
            "                           50%       75%       95%     97.5%  n_eff Rhat\n",
            "mu1                   2518.395  2543.516  2579.541  2591.921 106446    1\n",
            "mu2                   2899.341  2976.392  3087.303  3123.776 103243    1\n",
            "sigma                  511.553   529.292   556.204   565.649  96322    1\n",
            "mu1_minus_mu2         -380.860  -299.114  -181.809  -143.211 102929    1\n",
            "u_mu1_gt_mu2             0.000     0.000     0.000     0.000  89438    1\n",
            "u_mu1_minus_mu2_gt_5     0.000     0.000     0.000     0.000  89825    1\n",
            "delta                   -0.745    -0.583    -0.352    -0.277 103728    1\n",
            "u_delta_gt_03            0.000     0.000     0.000     0.000    NaN    1\n",
            "U3                       0.228     0.280     0.362     0.391 101926    1\n",
            "u_U3_gt_06               0.000     0.000     0.000     0.000    NaN    1\n",
            "pi_d                     0.299     0.340     0.402     0.422 103185    1\n",
            "u_pi_d_gt_08             0.000     0.000     0.000     0.000    NaN  NaN\n",
            "lp__                 -1374.302 -1373.723 -1373.292 -1373.223  51049    1\n",
            "\n",
            "Samples were drawn using NUTS(diag_e) at Fri Jun 19 13:56:53 2020.\n",
            "For each parameter, n_eff is a crude measure of effective sample size,\n",
            "and Rhat is the potential scale reduction factor on split chains (at \n",
            "convergence, Rhat=1).\n"
          ],
          "name": "stdout"
        }
      ]
    },
    {
      "cell_type": "code",
      "metadata": {
        "id": "7p5WrGNL7EIJ",
        "colab_type": "code",
        "colab": {}
      },
      "source": [
        "# 発生させたパラメータのヒストグラム\n",
        "stan_hist(fit,pars=c(\"mu1\",\"mu2\",\"sigma\"))"
      ],
      "execution_count": null,
      "outputs": []
    },
    {
      "cell_type": "code",
      "metadata": {
        "id": "bZiwNNmmjuTK",
        "colab_type": "code",
        "colab": {}
      },
      "source": [
        "# パラメータの事後分布（小数以下3桁表示）\n",
        "print(fit,probs=c(0.025,0.05,0.95,0.975),digits=3)"
      ],
      "execution_count": null,
      "outputs": []
    }
  ]
}